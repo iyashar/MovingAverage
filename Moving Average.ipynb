{
 "cells": [
  {
   "cell_type": "code",
   "execution_count": 1,
   "id": "3da26a61",
   "metadata": {},
   "outputs": [],
   "source": [
    "import pandas as pd"
   ]
  },
  {
   "cell_type": "code",
   "execution_count": 2,
   "id": "9515c643",
   "metadata": {},
   "outputs": [],
   "source": [
    "data = pd.read_csv('bourse.csv')"
   ]
  },
  {
   "cell_type": "code",
   "execution_count": 3,
   "id": "02ac1738",
   "metadata": {},
   "outputs": [
    {
     "name": "stdout",
     "output_type": "stream",
     "text": [
      "<class 'pandas.core.frame.DataFrame'>\n",
      "RangeIndex: 2609 entries, 0 to 2608\n",
      "Data columns (total 4 columns):\n",
      " #   Column       Non-Null Count  Dtype  \n",
      "---  ------       --------------  -----  \n",
      " 0   Date_shamsi  2609 non-null   object \n",
      " 1   full_index   2603 non-null   float64\n",
      " 2   turnover     2609 non-null   float64\n",
      " 3   value        2609 non-null   float64\n",
      "dtypes: float64(3), object(1)\n",
      "memory usage: 81.7+ KB\n"
     ]
    }
   ],
   "source": [
    "data.info()"
   ]
  },
  {
   "cell_type": "code",
   "execution_count": 4,
   "id": "315a3c8b",
   "metadata": {},
   "outputs": [
    {
     "data": {
      "text/html": [
       "<div>\n",
       "<style scoped>\n",
       "    .dataframe tbody tr th:only-of-type {\n",
       "        vertical-align: middle;\n",
       "    }\n",
       "\n",
       "    .dataframe tbody tr th {\n",
       "        vertical-align: top;\n",
       "    }\n",
       "\n",
       "    .dataframe thead th {\n",
       "        text-align: right;\n",
       "    }\n",
       "</style>\n",
       "<table border=\"1\" class=\"dataframe\">\n",
       "  <thead>\n",
       "    <tr style=\"text-align: right;\">\n",
       "      <th></th>\n",
       "      <th>Date_shamsi</th>\n",
       "      <th>full_index</th>\n",
       "      <th>turnover</th>\n",
       "      <th>value</th>\n",
       "    </tr>\n",
       "  </thead>\n",
       "  <tbody>\n",
       "    <tr>\n",
       "      <th>0</th>\n",
       "      <td>1390-01-06</td>\n",
       "      <td>23756.3</td>\n",
       "      <td>116210000.0</td>\n",
       "      <td>4.258800e+11</td>\n",
       "    </tr>\n",
       "    <tr>\n",
       "      <th>1</th>\n",
       "      <td>1390-01-07</td>\n",
       "      <td>24199.8</td>\n",
       "      <td>242110000.0</td>\n",
       "      <td>8.081200e+11</td>\n",
       "    </tr>\n",
       "    <tr>\n",
       "      <th>2</th>\n",
       "      <td>1390-01-08</td>\n",
       "      <td>24287.8</td>\n",
       "      <td>232860000.0</td>\n",
       "      <td>6.975900e+11</td>\n",
       "    </tr>\n",
       "    <tr>\n",
       "      <th>3</th>\n",
       "      <td>1390-01-09</td>\n",
       "      <td>24486.6</td>\n",
       "      <td>208030000.0</td>\n",
       "      <td>6.910500e+11</td>\n",
       "    </tr>\n",
       "    <tr>\n",
       "      <th>4</th>\n",
       "      <td>1390-01-10</td>\n",
       "      <td>24486.0</td>\n",
       "      <td>360400000.0</td>\n",
       "      <td>1.192890e+12</td>\n",
       "    </tr>\n",
       "  </tbody>\n",
       "</table>\n",
       "</div>"
      ],
      "text/plain": [
       "  Date_shamsi  full_index     turnover         value\n",
       "0  1390-01-06     23756.3  116210000.0  4.258800e+11\n",
       "1  1390-01-07     24199.8  242110000.0  8.081200e+11\n",
       "2  1390-01-08     24287.8  232860000.0  6.975900e+11\n",
       "3  1390-01-09     24486.6  208030000.0  6.910500e+11\n",
       "4  1390-01-10     24486.0  360400000.0  1.192890e+12"
      ]
     },
     "execution_count": 4,
     "metadata": {},
     "output_type": "execute_result"
    }
   ],
   "source": [
    "data.head()"
   ]
  },
  {
   "cell_type": "code",
   "execution_count": 7,
   "id": "dc0f9591",
   "metadata": {},
   "outputs": [
    {
     "name": "stdout",
     "output_type": "stream",
     "text": [
      "5\n"
     ]
    }
   ],
   "source": [
    "rc = input()"
   ]
  },
  {
   "cell_type": "code",
   "execution_count": 9,
   "id": "1e64b38d",
   "metadata": {},
   "outputs": [
    {
     "data": {
      "text/html": [
       "<div>\n",
       "<style scoped>\n",
       "    .dataframe tbody tr th:only-of-type {\n",
       "        vertical-align: middle;\n",
       "    }\n",
       "\n",
       "    .dataframe tbody tr th {\n",
       "        vertical-align: top;\n",
       "    }\n",
       "\n",
       "    .dataframe thead th {\n",
       "        text-align: right;\n",
       "    }\n",
       "</style>\n",
       "<table border=\"1\" class=\"dataframe\">\n",
       "  <thead>\n",
       "    <tr style=\"text-align: right;\">\n",
       "      <th></th>\n",
       "      <th>Date_shamsi</th>\n",
       "      <th>full_index</th>\n",
       "      <th>turnover</th>\n",
       "      <th>value</th>\n",
       "      <th>movingsum</th>\n",
       "      <th>movingaverage</th>\n",
       "    </tr>\n",
       "  </thead>\n",
       "  <tbody>\n",
       "    <tr>\n",
       "      <th>0</th>\n",
       "      <td>1390-01-06</td>\n",
       "      <td>23756.3</td>\n",
       "      <td>116210000.0</td>\n",
       "      <td>4.258800e+11</td>\n",
       "      <td>NaN</td>\n",
       "      <td>NaN</td>\n",
       "    </tr>\n",
       "    <tr>\n",
       "      <th>1</th>\n",
       "      <td>1390-01-07</td>\n",
       "      <td>24199.8</td>\n",
       "      <td>242110000.0</td>\n",
       "      <td>8.081200e+11</td>\n",
       "      <td>NaN</td>\n",
       "      <td>NaN</td>\n",
       "    </tr>\n",
       "    <tr>\n",
       "      <th>2</th>\n",
       "      <td>1390-01-08</td>\n",
       "      <td>24287.8</td>\n",
       "      <td>232860000.0</td>\n",
       "      <td>6.975900e+11</td>\n",
       "      <td>NaN</td>\n",
       "      <td>NaN</td>\n",
       "    </tr>\n",
       "    <tr>\n",
       "      <th>3</th>\n",
       "      <td>1390-01-09</td>\n",
       "      <td>24486.6</td>\n",
       "      <td>208030000.0</td>\n",
       "      <td>6.910500e+11</td>\n",
       "      <td>NaN</td>\n",
       "      <td>NaN</td>\n",
       "    </tr>\n",
       "    <tr>\n",
       "      <th>4</th>\n",
       "      <td>1390-01-10</td>\n",
       "      <td>24486.0</td>\n",
       "      <td>360400000.0</td>\n",
       "      <td>1.192890e+12</td>\n",
       "      <td>121216.5</td>\n",
       "      <td>24243.30</td>\n",
       "    </tr>\n",
       "    <tr>\n",
       "      <th>5</th>\n",
       "      <td>1390-01-14</td>\n",
       "      <td>24543.6</td>\n",
       "      <td>169730000.0</td>\n",
       "      <td>5.487900e+11</td>\n",
       "      <td>122003.8</td>\n",
       "      <td>24400.76</td>\n",
       "    </tr>\n",
       "    <tr>\n",
       "      <th>6</th>\n",
       "      <td>1390-01-15</td>\n",
       "      <td>25023.3</td>\n",
       "      <td>368480000.0</td>\n",
       "      <td>1.343620e+12</td>\n",
       "      <td>122827.3</td>\n",
       "      <td>24565.46</td>\n",
       "    </tr>\n",
       "    <tr>\n",
       "      <th>7</th>\n",
       "      <td>1390-01-16</td>\n",
       "      <td>25550.4</td>\n",
       "      <td>413230000.0</td>\n",
       "      <td>1.626900e+12</td>\n",
       "      <td>124089.9</td>\n",
       "      <td>24817.98</td>\n",
       "    </tr>\n",
       "    <tr>\n",
       "      <th>8</th>\n",
       "      <td>1390-01-17</td>\n",
       "      <td>25885.1</td>\n",
       "      <td>545670000.0</td>\n",
       "      <td>2.062660e+12</td>\n",
       "      <td>125488.4</td>\n",
       "      <td>25097.68</td>\n",
       "    </tr>\n",
       "    <tr>\n",
       "      <th>9</th>\n",
       "      <td>1390-01-20</td>\n",
       "      <td>26222.7</td>\n",
       "      <td>817580000.0</td>\n",
       "      <td>3.029210e+12</td>\n",
       "      <td>127225.1</td>\n",
       "      <td>25445.02</td>\n",
       "    </tr>\n",
       "  </tbody>\n",
       "</table>\n",
       "</div>"
      ],
      "text/plain": [
       "  Date_shamsi  full_index     turnover         value  movingsum  movingaverage\n",
       "0  1390-01-06     23756.3  116210000.0  4.258800e+11        NaN            NaN\n",
       "1  1390-01-07     24199.8  242110000.0  8.081200e+11        NaN            NaN\n",
       "2  1390-01-08     24287.8  232860000.0  6.975900e+11        NaN            NaN\n",
       "3  1390-01-09     24486.6  208030000.0  6.910500e+11        NaN            NaN\n",
       "4  1390-01-10     24486.0  360400000.0  1.192890e+12   121216.5       24243.30\n",
       "5  1390-01-14     24543.6  169730000.0  5.487900e+11   122003.8       24400.76\n",
       "6  1390-01-15     25023.3  368480000.0  1.343620e+12   122827.3       24565.46\n",
       "7  1390-01-16     25550.4  413230000.0  1.626900e+12   124089.9       24817.98\n",
       "8  1390-01-17     25885.1  545670000.0  2.062660e+12   125488.4       25097.68\n",
       "9  1390-01-20     26222.7  817580000.0  3.029210e+12   127225.1       25445.02"
      ]
     },
     "execution_count": 9,
     "metadata": {},
     "output_type": "execute_result"
    }
   ],
   "source": [
    "rc = 5\n",
    "data['movingsum'] = data['full_index'].rolling(rc).sum()\n",
    "data['movingaverage'] = data['movingsum']/rc\n",
    "data.head(10)"
   ]
  }
 ],
 "metadata": {
  "kernelspec": {
   "display_name": "Python 3",
   "language": "python",
   "name": "python3"
  },
  "language_info": {
   "codemirror_mode": {
    "name": "ipython",
    "version": 3
   },
   "file_extension": ".py",
   "mimetype": "text/x-python",
   "name": "python",
   "nbconvert_exporter": "python",
   "pygments_lexer": "ipython3",
   "version": "3.8.8"
  }
 },
 "nbformat": 4,
 "nbformat_minor": 5
}
